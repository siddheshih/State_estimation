{
 "cells": [
  {
   "cell_type": "code",
   "execution_count": 1,
   "metadata": {},
   "outputs": [
    {
     "name": "stdout",
     "output_type": "stream",
     "text": [
      "Requirement already satisfied: symengine in /home/siddhesh/anaconda3/lib/python3.7/site-packages (0.6.1)\r\n"
     ]
    }
   ],
   "source": [
    "!pip install symengine"
   ]
  },
  {
   "cell_type": "code",
   "execution_count": 216,
   "metadata": {},
   "outputs": [],
   "source": [
    "import symengine\n",
    "from sympy import lambdify\n",
    "import numpy as np\n"
   ]
  },
  {
   "cell_type": "code",
   "execution_count": 217,
   "metadata": {},
   "outputs": [],
   "source": [
    "var = symengine.symbols('x1 y1') # Define x and y variables\n",
    "f = symengine.sympify(['y1*x1**2', '5*x1 + sin(y1)']) # Define function\n",
    "J = symengine.zeros(len(f),len(var)) # Initialise Jacobian matrix\n"
   ]
  },
  {
   "cell_type": "code",
   "execution_count": 218,
   "metadata": {},
   "outputs": [],
   "source": [
    "for i, fi in enumerate(f):\n",
    "    for j, s in enumerate(var):        \n",
    "        J[i,j] = symengine.diff(fi, s)\n"
   ]
  },
  {
   "cell_type": "code",
   "execution_count": 219,
   "metadata": {},
   "outputs": [],
   "source": [
    "from sympy.abc import x, y\n"
   ]
  },
  {
   "cell_type": "code",
   "execution_count": 220,
   "metadata": {},
   "outputs": [],
   "source": [
    "T=J.subs(\"x1\",2)"
   ]
  },
  {
   "cell_type": "code",
   "execution_count": null,
   "metadata": {},
   "outputs": [],
   "source": []
  },
  {
   "cell_type": "code",
   "execution_count": 221,
   "metadata": {},
   "outputs": [],
   "source": [
    "h1='x9'\n",
    "h2='x10'\n",
    "h3='x11'\n",
    "h4='x12'\n",
    "h5='x13'\n",
    "h6='x14'\n",
    "h7='x15'\n",
    "h8='x16'\n",
    "h9='x17'\n",
    "h10='x9*x12*sin(-x3)/z14'\n",
    "h11='x11*x14*sin(x2-x5)/z36'\n",
    "h13='x12*x13*sin(x3-x4)/z45'\n",
    "h12='x10*x16*sin(x1-x7)/z28'\n",
    "h14='x12*x17*sin(x3-x8)/z49'\n",
    "h15='x14*x15*sin(x5-x6)/z67'\n",
    "h16='x14*x13*sin(x5-x4)/z65'\n",
    "h17='x16*x15*sin(x7-x6)/z87'\n",
    "h18='x16*x17*sin(x7-x8)/z89'\n",
    "h19='(x12*x13*sin(x3-x4)/z45)+(x12*x17*sin(x7-x8)/z49)'\n",
    "h20='(x16*x15*sin(x7-x6)/z87)+(x16*x17*sin(x7-x8)/z89)'\n",
    "h21='(x14*x15*sin(x5-x6)/z67)+(x14*x12*sin(x5-x4)/z65)'\n",
    "\n"
   ]
  },
  {
   "cell_type": "code",
   "execution_count": 222,
   "metadata": {},
   "outputs": [],
   "source": [
    "var = symengine.symbols('x1 x2 x3 x4 x5 x6 x7 x8 x9 x10 x11 x12 x13 x14 x15 x16 x17')"
   ]
  },
  {
   "cell_type": "code",
   "execution_count": 223,
   "metadata": {},
   "outputs": [],
   "source": [
    "f = symengine.sympify([h1,h2,h3,h4,h5,h6,h7,h8,h9,h10,h11,h12,h13,h14,h15,h16,h17,h18,h19,h20,h21])"
   ]
  },
  {
   "cell_type": "code",
   "execution_count": 224,
   "metadata": {},
   "outputs": [],
   "source": [
    "J = symengine.zeros(len(f),len(var))"
   ]
  },
  {
   "cell_type": "code",
   "execution_count": 225,
   "metadata": {},
   "outputs": [],
   "source": [
    "for i, fi in enumerate(f):\n",
    "    for j, s in enumerate(var):        \n",
    "        J[i,j] = symengine.diff(fi, s)\n"
   ]
  },
  {
   "cell_type": "code",
   "execution_count": 226,
   "metadata": {},
   "outputs": [
    {
     "data": {
      "text/plain": [
       "[0, 0, 0, 0, 0, 0, 0, 0, 1, 0, 0, 0, 0, 0, 0, 0, 0]\n",
       "[0, 0, 0, 0, 0, 0, 0, 0, 0, 1, 0, 0, 0, 0, 0, 0, 0]\n",
       "[0, 0, 0, 0, 0, 0, 0, 0, 0, 0, 1, 0, 0, 0, 0, 0, 0]\n",
       "[0, 0, 0, 0, 0, 0, 0, 0, 0, 0, 0, 1, 0, 0, 0, 0, 0]\n",
       "[0, 0, 0, 0, 0, 0, 0, 0, 0, 0, 0, 0, 1, 0, 0, 0, 0]\n",
       "[0, 0, 0, 0, 0, 0, 0, 0, 0, 0, 0, 0, 0, 1, 0, 0, 0]\n",
       "[0, 0, 0, 0, 0, 0, 0, 0, 0, 0, 0, 0, 0, 0, 1, 0, 0]\n",
       "[0, 0, 0, 0, 0, 0, 0, 0, 0, 0, 0, 0, 0, 0, 0, 1, 0]\n",
       "[0, 0, 0, 0, 0, 0, 0, 0, 0, 0, 0, 0, 0, 0, 0, 0, 1]\n",
       "[0, 0, -x9*cos(x3)*x12/z14, 0, 0, 0, 0, 0, -sin(x3)*x12/z14, 0, 0, -x9*sin(x3)/z14, 0, 0, 0, 0, 0]\n",
       "[0, cos(x2 - x5)*x14*x11/z36, 0, 0, -cos(x2 - x5)*x14*x11/z36, 0, 0, 0, 0, 0, sin(x2 - x5)*x14/z36, 0, 0, sin(x2 - x5)*x11/z36, 0, 0, 0]\n",
       "[cos(x1 - x7)*x10*x16/z28, 0, 0, 0, 0, 0, -cos(x1 - x7)*x10*x16/z28, 0, 0, sin(x1 - x7)*x16/z28, 0, 0, 0, 0, 0, sin(x1 - x7)*x10/z28, 0]\n",
       "[0, 0, cos(-x3 + x4)*x13*x12/z45, -cos(-x3 + x4)*x13*x12/z45, 0, 0, 0, 0, 0, 0, 0, -sin(-x3 + x4)*x13/z45, -sin(-x3 + x4)*x12/z45, 0, 0, 0, 0]\n",
       "[0, 0, cos(x3 - x8)*x12*x17/z49, 0, 0, 0, 0, -cos(x3 - x8)*x12*x17/z49, 0, 0, 0, sin(x3 - x8)*x17/z49, 0, 0, 0, 0, sin(x3 - x8)*x12/z49]\n",
       "[0, 0, 0, 0, cos(-x5 + x6)*x15*x14/z67, -cos(-x5 + x6)*x15*x14/z67, 0, 0, 0, 0, 0, 0, 0, -sin(-x5 + x6)*x15/z67, -sin(-x5 + x6)*x14/z67, 0, 0]\n",
       "[0, 0, 0, -cos(x4 - x5)*x14*x13/z65, cos(x4 - x5)*x14*x13/z65, 0, 0, 0, 0, 0, 0, 0, -sin(x4 - x5)*x14/z65, -sin(x4 - x5)*x13/z65, 0, 0, 0]\n",
       "[0, 0, 0, 0, 0, -cos(x6 - x7)*x15*x16/z87, cos(x6 - x7)*x15*x16/z87, 0, 0, 0, 0, 0, 0, 0, -sin(x6 - x7)*x16/z87, -sin(x6 - x7)*x15/z87, 0]\n",
       "[0, 0, 0, 0, 0, 0, cos(-x7 + x8)*x17*x16/z89, -cos(-x7 + x8)*x17*x16/z89, 0, 0, 0, 0, 0, 0, 0, -sin(-x7 + x8)*x17/z89, -sin(-x7 + x8)*x16/z89]\n",
       "[0, 0, cos(-x3 + x4)*x13*x12/z45, -cos(-x3 + x4)*x13*x12/z45, 0, 0, cos(-x7 + x8)*x12*x17/z49, -cos(-x7 + x8)*x12*x17/z49, 0, 0, 0, -sin(-x3 + x4)*x13/z45 - sin(-x7 + x8)*x17/z49, -sin(-x3 + x4)*x12/z45, 0, 0, 0, -sin(-x7 + x8)*x12/z49]\n",
       "[0, 0, 0, 0, 0, -cos(x6 - x7)*x15*x16/z87, cos(x6 - x7)*x15*x16/z87 + cos(-x7 + x8)*x17*x16/z89, -cos(-x7 + x8)*x17*x16/z89, 0, 0, 0, 0, 0, 0, -sin(x6 - x7)*x16/z87, -sin(x6 - x7)*x15/z87 - sin(-x7 + x8)*x17/z89, -sin(-x7 + x8)*x16/z89]\n",
       "[0, 0, 0, -cos(x4 - x5)*x14*x12/z65, cos(x4 - x5)*x14*x12/z65 + cos(-x5 + x6)*x15*x14/z67, -cos(-x5 + x6)*x15*x14/z67, 0, 0, 0, 0, 0, -sin(x4 - x5)*x14/z65, 0, -sin(x4 - x5)*x12/z65 - sin(-x5 + x6)*x15/z67, -sin(-x5 + x6)*x14/z67, 0, 0]"
      ]
     },
     "execution_count": 226,
     "metadata": {},
     "output_type": "execute_result"
    }
   ],
   "source": [
    "J"
   ]
  },
  {
   "cell_type": "code",
   "execution_count": null,
   "metadata": {},
   "outputs": [],
   "source": []
  },
  {
   "cell_type": "code",
   "execution_count": 227,
   "metadata": {},
   "outputs": [],
   "source": [
    "import cmath\n",
    "z14_= complex(0,0.0576)\n",
    "z45_= complex(0.017,0.092)\n",
    "z56_= complex(0.039  ,0.17)\n",
    "z36_= complex(0 ,0.0586)\n",
    "z67_= complex(0.0119,0.1008)\n",
    "z78_= complex(0.0085 ,0.072)\n",
    "z82_= complex(0 ,0.0625)\n",
    "z89_= complex(0.032 ,0.161)\n",
    "z94_= complex(0.01 ,0.085)"
   ]
  },
  {
   "cell_type": "markdown",
   "metadata": {},
   "source": [
    "z"
   ]
  },
  {
   "cell_type": "code",
   "execution_count": 228,
   "metadata": {},
   "outputs": [],
   "source": [
    "z_14=abs(z14_)\n",
    "z_41=abs(z14_)\n",
    "z_45=abs(z45_)\n",
    "z_54=abs(z45_)\n",
    "z_56=abs(z56_)\n",
    "z_65=abs(z56_)\n",
    "z_36=abs(z36_)\n",
    "z_63=abs(z36_)\n",
    "z_67=abs(z67_)\n",
    "z_76=abs(z67_)\n",
    "z_78=abs(z78_)\n",
    "z_87=abs(z78_)\n",
    "z_82=abs(z82_)\n",
    "z_28=abs(z82_)\n",
    "z_89=abs(z89_)\n",
    "z_98=abs(z89_)\n",
    "z_94=abs(z94_)\n",
    "z_49=abs(z94_)"
   ]
  },
  {
   "cell_type": "code",
   "execution_count": 229,
   "metadata": {},
   "outputs": [],
   "source": [
    "## Calucutaing H for each iteration:\n",
    "from sympy import *\n",
    "z14,z41,z45,z54,z56,z65,z36,z63,z67,z76,z78,z87,z82,z28,z89,z98,z94,z49=symbols(\"z14,z41,z45,z54,z56,z65,z36,z63,z67,z76,z78,z87,z82,z28,z89,z98,z94,z49\")\n",
    "J=J.subs(z14,z_14)\n",
    "J=J.subs(z41,z_41)\n",
    "J=J.subs(z45,z_45)\n",
    "J=J.subs(z54,z_54)\n",
    "J=J.subs(z56,z_56)\n",
    "J=J.subs(z65,z_65)\n",
    "J=J.subs(z36,z_36)\n",
    "J=J.subs(z63,z_63)\n",
    "J=J.subs(z67,z_67)\n",
    "J=J.subs(z76,z_76)\n",
    "J=J.subs(z78,z_78)\n",
    "J=J.subs(z87,z_87)\n",
    "J=J.subs(z28,z_28)\n",
    "J=J.subs(z82,z_82)\n",
    "J=J.subs(z89,z_89)\n",
    "J=J.subs(z98,z_98)\n",
    "J=J.subs(z94,z_94)\n",
    "J=J.subs(z49,z_49)\n"
   ]
  },
  {
   "cell_type": "code",
   "execution_count": 230,
   "metadata": {},
   "outputs": [],
   "source": [
    "Hx=J"
   ]
  },
  {
   "cell_type": "code",
   "execution_count": 231,
   "metadata": {},
   "outputs": [],
   "source": [
    "v=['x1', 'x2', 'x3', 'x4', 'x5', 'x6', 'x7', 'x8' ,'x9' , 'x10','x11' ,'x12' ,'x13' ,'x14', 'x15' ,'x16', 'x17']\n",
    "x=[0.,0.,0.,0.,0.,0.,0.,0.,1.,1.,1.,1.,1.,1.,1.,1.,1.]\n",
    "\"\"\"\n",
    "Substitues the values of x and then returns it as a numpy array\n",
    "\"\"\"\n",
    "def subs_hx(hx,x,v):\n",
    "    for i in range(17):\n",
    "        hx=hx.subs(v[i],x[i])\n",
    "    t=hx\n",
    "    z=np.array(t).astype(np.float64)\n",
    "    return z\n",
    "    \n",
    "    "
   ]
  },
  {
   "cell_type": "code",
   "execution_count": 232,
   "metadata": {},
   "outputs": [],
   "source": [
    "#t=subs_hx(Hx,x,v)"
   ]
  },
  {
   "cell_type": "code",
   "execution_count": 233,
   "metadata": {},
   "outputs": [],
   "source": [
    "R=np.diag([0.49,0.49,0.49,0.49,0.49,0.49,0.49,0.49,0.49,0.36,0.36,0.36,0.36,0.36,0.36,0.36,0.36,0.36,0.25,0.25,0.25])"
   ]
  },
  {
   "cell_type": "code",
   "execution_count": 234,
   "metadata": {},
   "outputs": [],
   "source": [
    "\n",
    "#t.shape"
   ]
  },
  {
   "cell_type": "code",
   "execution_count": 235,
   "metadata": {},
   "outputs": [
    {
     "data": {
      "text/plain": [
       "(21, 21)"
      ]
     },
     "execution_count": 235,
     "metadata": {},
     "output_type": "execute_result"
    }
   ],
   "source": [
    "R.shape"
   ]
  },
  {
   "cell_type": "code",
   "execution_count": 239,
   "metadata": {},
   "outputs": [],
   "source": [
    "T=np.matrix(R)\n",
    "R_inv=T.I"
   ]
  },
  {
   "cell_type": "code",
   "execution_count": 240,
   "metadata": {},
   "outputs": [],
   "source": [
    "# G1=np.matmul(R_inv,t)\n",
    "# M=np.matrix(t)\n",
    "# Gain=np.matmul(M.T,G1)"
   ]
  },
  {
   "cell_type": "code",
   "execution_count": 241,
   "metadata": {},
   "outputs": [
    {
     "data": {
      "text/plain": [
       "\"\\nThe substitued values of h's with corresponding x's\\n\""
      ]
     },
     "execution_count": 241,
     "metadata": {},
     "output_type": "execute_result"
    }
   ],
   "source": [
    "\"\"\"\n",
    "The substitued values of h's with corresponding x's\n",
    "\"\"\"\n",
    "# x1,x2,x3,x4,x5,x6,x7,x8,x9,x10,x11,x12,x13,x14,x15,x16,x17=symbols('x1,x2,x3,x4,x5,x6,x7,x8,x9,x10,x11,x12,x13,x14,x15,x16,x17')\n",
    "# h_1=x[8]\n",
    "# h_2=x[9]\n",
    "# h_3=x[10]\n",
    "# h_4=x[11]\n",
    "# h_5=x[12]\n",
    "# h_6=x[13]\n",
    "# h_7=x[14]\n",
    "# h_8=x[15]\n",
    "# h_9=x[16]\n",
    "# h10=x9*x12*sin(-x3)/z14\n",
    "# h11=x11*x14*sin(x2-x5)/z36\n",
    "# h13=x12*x13*sin(x3-x4)/z45\n",
    "# h12=x10*x16*sin(x1-x7)/z28\n",
    "# h14=x12*x17*sin(x3-x8)/z49\n",
    "# h15=x14*x15*sin(x5-x6)/z67\n",
    "# h16=x14*x13*sin(x5-x4)/z65\n",
    "# h17=x16*x15*sin(x7-x6)/z87\n",
    "# h18=x16*x17*sin(x7-x8)/z89\n",
    "# h19=(x12*x13*sin(x3-x4)/z45)+(x12*x17*sin(x7-x8)/z49)\n",
    "# h20=(x16*x15*sin(x7-x6)/z87)+(x16*x17*sin(x7-x8)/z89)\n",
    "# h21=(x14*x15*sin(x5-x6)/z67)+(x14*x12*sin(x5-x4)/z65)\n",
    "\n",
    "\n",
    "# h_10=h10.subs([(x9,x[8]),(x12,x[11]),(z14,z_14),(x3,x[2])])\n",
    "# h_11=h11.subs([(x11,x[10]),(x14,x[13]),(z36,z_36),(x2,x[1]),(x5,x[4])])\n",
    "# h_12=h12.subs([(x10,x[9]),(x16,x[13]),(z28,z_28),(x1,x[0]),(x7,x[6])])\n",
    "# h_13=h13.subs([(x12,x[11]),(x13,x[12]),(z45,z_45),(x3,x[2]),(x4,x[3])])\n",
    "# h_14=h14.subs([(x12,x[11]),(x17,x[16]),(z49,z_49),(x3,x[2]),(x8,x[7])])\n",
    "# h_15=h15.subs([(x14,x[13]),(x15,x[14]),(z67,z_67),(x5,x[4]),(x6,x[5])])\n",
    "# h_16=h16.subs([(x14,x[13]),(x13,x[12]),(z65,z_65),(x5,x[4]),(x4,x[3])])\n",
    "# h_17=h17.subs([(x16,x[15]),(x15,x[14]),(z87,z_87),(x6,x[5]),(x7,x[6])])\n",
    "# h_18=h18.subs([(x16,x[15]),(x17,x[16]),(z89,z_89),(x7,x[6]),(x8,x[7])])\n",
    "# h_19=h19.subs([(x12,x[11]),(x13,x[12]),(z45,z_45),(x3,x[2]),(x4,x[3])])\n",
    "# h_20=h20.subs([(x16,x[15]),(x15,x[14]),(z87,z_87),(x6,x[5]),(x7,x[6])])\n",
    "# h_21=h21.subs([(x14,x[13]),(x15,x[14]),(z67,z_67),(x5,x[4]),(x6,x[5])])\n",
    "# h_19=h_19.subs([(x12,x[11]),(x17,x[16]),(z49,z_49),(x7,x[6]),(x8,x[7])])\n",
    "# h_20=h_20.subs([(x16,x[15]),(x17,x[16]),(z89,z_89),(x7,x[6]),(x8,x[7])])\n",
    "# h_21=h_21.subs([(x14,x[13]),(x12,x[11]),(z65,z_65),(x5,x[4]),(x4,x[3])])\n",
    "\n",
    "\n",
    "\n",
    "\n"
   ]
  },
  {
   "cell_type": "code",
   "execution_count": 242,
   "metadata": {},
   "outputs": [],
   "source": [
    "#h_x=[h_1,h_2,h_3,h_4,h_5,h_6,h_7,h_8,h_9,h_10,h_11,h_12,h_13,h_14,h_15,h_16,h_17,h_18,h_19,h_20,h_21]\n",
    "z1=[0.194759154120474,1.52706705593019,2.16616470241531,1.36822563921825,1.73728510694250,1.54081959336827,0.803591352649789,1.23171002696766,0.444902037368954,72.1730373790546,162.311757935819,84.3586777250992,30.2143007833451,38.9134295028031,25.0430281756891,59.6551143236737,75.4470430084982,87.6421791240571,70.7842417905732,162.948878776957,84.8792764791963]\n",
    "z=[1.04000000000000,1.02500000000000,1.02500000000000,1.02600000000000,1.01300000000000,1.03200000000000,1.01600000000000,1.02600000000000,0.996000000000000,71.6400000000000,163,85,30.7000000000000,40.6800000000000,24.1800000000000,59.4600000000000,75.9000000000000,86.8200000000000,71.6400000000000,163,85]"
   ]
  },
  {
   "cell_type": "code",
   "execution_count": 243,
   "metadata": {},
   "outputs": [
    {
     "data": {
      "text/plain": [
       "'\\nM is the matrix fom of Hx\\n'"
      ]
     },
     "execution_count": 243,
     "metadata": {},
     "output_type": "execute_result"
    }
   ],
   "source": [
    "\"\"\"\n",
    "M is the matrix fom of Hx\n",
    "\"\"\"\n",
    "# A=Gain.I\n",
    "# B=np.matmul(M.T,R_inv)\n",
    "# C=np.subtract(z,h_x)\n",
    "# D=np.matmul(A,B)\n",
    "# C=C.astype(np.float)\n",
    "# E=np.matmul(D,C)\n",
    "# x_new=x+E \n",
    "# x_t=np.array(x_new)\n",
    "# t=x_t.flatten()"
   ]
  },
  {
   "cell_type": "code",
   "execution_count": 244,
   "metadata": {},
   "outputs": [],
   "source": [
    "#t"
   ]
  },
  {
   "cell_type": "code",
   "execution_count": 251,
   "metadata": {},
   "outputs": [],
   "source": [
    "x=[0.,0.,0.,0.,0.,0.,0.,0.,1.,1.,1.,1.,1.,1.,1.,1.,1.]\n",
    "for i in range(1):\n",
    "    t=subs_hx(Hx,x,v)\n",
    "    G1=np.matmul(R_inv,t)\n",
    "    M=np.matrix(t)\n",
    "    Gain=np.matmul(M.T,G1)\n",
    "    x1,x2,x3,x4,x5,x6,x7,x8,x9,x10,x11,x12,x13,x14,x15,x16,x17=symbols('x1,x2,x3,x4,x5,x6,x7,x8,x9,x10,x11,x12,x13,x14,x15,x16,x17')\n",
    "    h_1=x[8]\n",
    "    h_2=x[9]\n",
    "    h_3=x[10]\n",
    "    h_4=x[11]\n",
    "    h_5=x[12]\n",
    "    h_6=x[13]\n",
    "    h_7=x[14]\n",
    "    h_8=x[15]\n",
    "    h_9=x[16]\n",
    "    h10=x9*x12*sin(-x3)/z14\n",
    "    h11=x11*x14*sin(x2-x5)/z36\n",
    "    h13=x12*x13*sin(x3-x4)/z45\n",
    "    h12=x10*x16*sin(x1-x7)/z28\n",
    "    h14=x12*x17*sin(x3-x8)/z49\n",
    "    h15=x14*x15*sin(x5-x6)/z67\n",
    "    h16=x14*x13*sin(x5-x4)/z65\n",
    "    h17=x16*x15*sin(x7-x6)/z87\n",
    "    h18=x16*x17*sin(x7-x8)/z89\n",
    "    h19=(x12*x13*sin(x3-x4)/z45)+(x12*x17*sin(x7-x8)/z49)\n",
    "    h20=(x16*x15*sin(x7-x6)/z87)+(x16*x17*sin(x7-x8)/z89)\n",
    "    h21=(x14*x15*sin(x5-x6)/z67)+(x14*x12*sin(x5-x4)/z65)\n",
    "    h_10=h10.subs([(x9,x[8]),(x12,x[11]),(z14,z_14),(x3,x[2])])\n",
    "    h_11=h11.subs([(x11,x[10]),(x14,x[13]),(z36,z_36),(x2,x[1]),(x5,x[4])])\n",
    "    h_12=h12.subs([(x10,x[9]),(x16,x[13]),(z28,z_28),(x1,x[0]),(x7,x[6])])\n",
    "    h_13=h13.subs([(x12,x[11]),(x13,x[12]),(z45,z_45),(x3,x[2]),(x4,x[3])])\n",
    "    h_14=h14.subs([(x12,x[11]),(x17,x[16]),(z49,z_49),(x3,x[2]),(x8,x[7])])\n",
    "    h_15=h15.subs([(x14,x[13]),(x15,x[14]),(z67,z_67),(x5,x[4]),(x6,x[5])])\n",
    "    h_16=h16.subs([(x14,x[13]),(x13,x[12]),(z65,z_65),(x5,x[4]),(x4,x[3])])\n",
    "    h_17=h17.subs([(x16,x[15]),(x15,x[14]),(z87,z_87),(x6,x[5]),(x7,x[6])])\n",
    "    h_18=h18.subs([(x16,x[15]),(x17,x[16]),(z89,z_89),(x7,x[6]),(x8,x[7])])\n",
    "    h_19=h19.subs([(x12,x[11]),(x13,x[12]),(z45,z_45),(x3,x[2]),(x4,x[3])])\n",
    "    h_20=h20.subs([(x16,x[15]),(x15,x[14]),(z87,z_87),(x6,x[5]),(x7,x[6])])\n",
    "    h_21=h21.subs([(x14,x[13]),(x15,x[14]),(z67,z_67),(x5,x[4]),(x6,x[5])])\n",
    "    h_19=h_19.subs([(x12,x[11]),(x17,x[16]),(z49,z_49),(x7,x[6]),(x8,x[7])])\n",
    "    h_20=h_20.subs([(x16,x[15]),(x17,x[16]),(z89,z_89),(x7,x[6]),(x8,x[7])])\n",
    "    h_21=h_21.subs([(x14,x[13]),(x12,x[11]),(z65,z_65),(x5,x[4]),(x4,x[3])])\n",
    "    h_x=[h_1,h_2,h_3,h_4,h_5,h_6,h_7,h_8,h_9,h_10,h_11,h_12,h_13,h_14,h_15,h_16,h_17,h_18,h_19,h_20,h_21]\n",
    "    A=Gain.I\n",
    "    B=np.matmul(M.T,R_inv)\n",
    "    C=np.subtract(z,h_x)\n",
    "    D=np.matmul(A,B)\n",
    "    C=C.astype(np.float)\n",
    "    E=np.matmul(D,C)\n",
    "    x_new=np.add(x,E) \n",
    "    x_t=np.array(x_new)\n",
    "    t=x_t.flatten()\n",
    "    x=t\n",
    "    #print(t)\n",
    "\n",
    "\n",
    "\n",
    "\n",
    "\n",
    "    \n",
    "    \n",
    "    \n",
    "    "
   ]
  },
  {
   "cell_type": "code",
   "execution_count": 252,
   "metadata": {},
   "outputs": [
    {
     "data": {
      "text/plain": [
       "array([ 8.03488851, 10.82063977, -4.126464  , -4.20651291,  1.26883977,\n",
       "       -3.76688621,  2.72238851, -6.18778151,  1.04      ,  1.025     ,\n",
       "        1.025     ,  1.026     ,  1.013     ,  1.032     ,  1.016     ,\n",
       "        1.026     ,  0.996     ])"
      ]
     },
     "execution_count": 252,
     "metadata": {},
     "output_type": "execute_result"
    }
   ],
   "source": [
    "x"
   ]
  },
  {
   "cell_type": "code",
   "execution_count": 250,
   "metadata": {},
   "outputs": [
    {
     "data": {
      "text/latex": [
       "$\\displaystyle 2.08060461173628$"
      ],
      "text/plain": [
       "2.08060461173628"
      ]
     },
     "execution_count": 250,
     "metadata": {},
     "output_type": "execute_result"
    }
   ],
   "source": [
    "al=symbols(\"al\")\n",
    "expr=2*cos(al)+1\n",
    "expr.subs(al,1.)"
   ]
  },
  {
   "cell_type": "code",
   "execution_count": null,
   "metadata": {},
   "outputs": [],
   "source": []
  },
  {
   "cell_type": "code",
   "execution_count": null,
   "metadata": {},
   "outputs": [],
   "source": []
  }
 ],
 "metadata": {
  "kernelspec": {
   "display_name": "Python 3",
   "language": "python",
   "name": "python3"
  },
  "language_info": {
   "codemirror_mode": {
    "name": "ipython",
    "version": 3
   },
   "file_extension": ".py",
   "mimetype": "text/x-python",
   "name": "python",
   "nbconvert_exporter": "python",
   "pygments_lexer": "ipython3",
   "version": "3.7.7"
  }
 },
 "nbformat": 4,
 "nbformat_minor": 4
}
